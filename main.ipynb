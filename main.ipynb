{
 "cells": [
  {
   "cell_type": "code",
   "execution_count": null,
   "metadata": {
    "vscode": {
     "languageId": "plaintext"
    }
   },
   "outputs": [],
   "source": [
    "import argparse\n",
    "import logging\n",
    "import numpy as np\n",
    "import torch\n",
    "from experiment import STPP\n",
    "\n",
    "logging.basicConfig(level=logging.INFO)\n",
    "logger = logging.getLogger()\n",
    "\n",
    "parser = argparse.ArgumentParser('Neural flows')\n",
    "parser.add_argument('--seed', type=int, default=1, help='Random seed')\n",
    "parser.add_argument('--experiment', type=str, default='stpp', help='Which experiment to run', choices=['stpp'])\n",
    "parser.add_argument('--model', type=str, help='Whether to use ODE or flow based model', choices=['ode', 'flow'])\n",
    "parser.add_argument('--data', type=str, default='covid', help='Dataset name', choices=['pinwheel', 'earthquake', 'covid', 'bike'])\n",
    "\n",
    "# Training loop args\n",
    "parser.add_argument('--epochs', type=int, default=1000, help='Max training epochs')\n",
    "parser.add_argument('--patience', type=int, default=10, help='Early stopping patience')\n",
    "parser.add_argument('--lr', type=float, default=1e-3, help='Learning rate')\n",
    "parser.add_argument('--weight-decay', type=float, default=0, help='Weight decay (regularization)')\n",
    "parser.add_argument('--batch-size', type=int, default=50, help='Batch size')\n",
    "parser.add_argument('--clip', type=float, default=1, help='Gradient clipping')\n",
    "\n",
    "# STPP-specific args\n",
    "parser.add_argument('--density-model', type=str, default='independent', help='Type of density model', choices=['independent', 'attention', 'jump'])\n",
    "parser.add_argument('--hidden-layers', type=int, default=1, help='Number of hidden layers')\n",
    "parser.add_argument('--hidden-dim', type=int, default=1, help='Size of hidden layer')\n",
    "parser.add_argument('--num-flow-layers', type=int, default=1, help='Number of flow layers')  # 변경된 이름\n",
    "parser.add_argument('--output-final-activation', type=str, default='Identity', help='Last layer activation')  # 변경된 이름\n",
    "\n",
    "args = parser.parse_args()\n",
    "\n",
    "def get_experiment(args, logger):\n",
    "    if args.experiment == 'stpp':\n",
    "        return STPP(args, logger)\n",
    "    else:\n",
    "        raise ValueError(f'Experiment {args.experiment} not supported')\n",
    "\n",
    "if __name__ == '__main__':\n",
    "    torch.manual_seed(args.seed)\n",
    "    np.random.seed(args.seed)\n",
    "\n",
    "    experiment = get_experiment(args, logger)\n",
    "    experiment.train()\n",
    "    experiment.finish()"
   ]
  }
 ],
 "metadata": {
  "language_info": {
   "name": "python"
  }
 },
 "nbformat": 4,
 "nbformat_minor": 2
}
